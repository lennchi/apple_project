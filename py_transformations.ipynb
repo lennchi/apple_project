{
 "cells": [
  {
   "cell_type": "markdown",
   "metadata": {},
   "source": [
    "## Produkce"
   ]
  },
  {
   "cell_type": "markdown",
   "metadata": {},
   "source": [
    "#### Jabloně – plocha sadů podle staří – ČR (ČSÚ)"
   ]
  },
  {
   "cell_type": "code",
   "execution_count": null,
   "metadata": {},
   "outputs": [],
   "source": [
    "import pandas as pd\n",
    "\n",
    "# df = pd.read_csv(\"data/jablone_plocha_sadu_stari_2012_CSU.csv\", encoding='utf-8')\n",
    "# df\n",
    "\n",
    "variety_files = [\"data/jablone_plocha_sadu_stari_2012_CSU.csv\", \"data/jablone_plocha_sadu_stari_2017_CSU.csv\"]\n",
    "for file in variety_files:\n",
    "    # Turn each file into a pd df\n",
    "    df = pd.read_csv(file, encoding='utf-8')\n",
    "\n",
    "    # Drop junk rows/columns        \n",
    "    df = df.drop(range(0,4))\n",
    "    df = df.drop(range(19,24))\n",
    "    df.drop(df.columns[0], axis=1, inplace=True)\n",
    "#     df.drop(df.columns[0], axis=1, inplace=True)\n",
    "    df.iloc[2, 0] = 'CELKEM'\n",
    "    df = df.fillna('EMPTY')\n",
    "\n",
    "    # Save clean csv\n",
    "    df.to_csv(f\"data_clean/{file[4:]}\", index=False, header=False, encoding='utf-8')"
   ]
  },
  {
   "cell_type": "markdown",
   "metadata": {},
   "source": [
    "#### Jabloně – plocha sadů podle hustoty – ČR (ČSÚ)"
   ]
  },
  {
   "cell_type": "code",
   "execution_count": null,
   "metadata": {},
   "outputs": [],
   "source": [
    "import pandas as pd\n",
    "\n",
    "area_files = [\"data/jablone_plocha_sadu_hustota_2012_CSU.csv\", \"data/jablone_plocha_sadu_hustota_2017_CSU.csv\"]\n",
    "\n",
    "for file in area_files:\n",
    "    # Turn each file into a pd df\n",
    "    df = pd.read_csv(file, encoding='utf-8')\n",
    "\n",
    "    # Drop junk rows/columns        \n",
    "    df = df.drop(range(0,5))\n",
    "    df = df.drop(range(22,26))\n",
    "    df.drop(df.columns[0], axis=1, inplace=True)\n",
    "    df.drop(df.columns[0], axis=1, inplace=True)\n",
    "    df.iloc[2, 1] = 'CELKEM'\n",
    "    df = df.fillna('EMPTY')\n",
    "\n",
    "    # Save clean csv\n",
    "    df.to_csv(f\"data_clean/{file[4:]}\", index=False, header=False, encoding='utf-8')"
   ]
  },
  {
   "cell_type": "markdown",
   "metadata": {},
   "source": [
    "#### Plocha sadů – EU (Eurostat)"
   ]
  },
  {
   "cell_type": "code",
   "execution_count": null,
   "metadata": {},
   "outputs": [],
   "source": [
    "import pandas as pd\n",
    "\n",
    "df = pd.read_csv(\"data/orch_total_linear.csv\", sep=';')\n",
    "df = df.drop(df.columns[[0, 1, 2, 3, 4, 5, -1]], axis=1)\n",
    "df.describe()\n",
    "\n",
    "# # Make 4 tables by years\n",
    "df_2002 = df[df['TIME_PERIOD'] == 2002] #55\n",
    "df_2007 = df[df['TIME_PERIOD'] == 2007] #118\n",
    "df_2012 = df[df['TIME_PERIOD'] == 2012] #330\n",
    "df_2017 = df[df['TIME_PERIOD'] == 2017] #154\n",
    "\n",
    "\n",
    "# Merge them into one by country and fruitvar\n",
    "df1 = pd.merge(df_2002, df_2007, on=['fruitvar', 'geo'], suffixes=('_2002', '_2007'), how='right')\n",
    "df2 = pd.merge(df1, df_2012, on=['fruitvar', 'geo'], how='right')\n",
    "df3 = pd.merge(df2, df_2017, on=['fruitvar', 'geo'], suffixes=('_2012', '_2017'), how='left')\n",
    "df = df3.drop(df3.columns[[2, 4, 6, 8]], axis=1)\n",
    "df = df[['geo', 'fruitvar', 'OBS_VALUE_2002', 'OBS_VALUE_2007', 'OBS_VALUE_2012', 'OBS_VALUE_2017']]\n",
    "df = df.rename(columns={'geo': 'COUNTRY', 'fruitvar': 'FRUIT'})\n",
    "df\n",
    "\n",
    "# Save clean csv\n",
    "df.to_csv(f\"data_clean/plocha_sadu_ha_eu_2002_2017.csv\", index=False, encoding=\"utf-8\")\n",
    "\n",
    "# clean = pd.read_csv(\"data_clean/plocha_sadu_ha_eu_2002_2017.csv\", encoding='utf-8')\n",
    "# clean"
   ]
  },
  {
   "cell_type": "markdown",
   "metadata": {},
   "source": [
    "#### Porovnání údajů o sklizních sadů a domácností: ČSÚ vs. OU ČR (Situační zpráva MZ)"
   ]
  },
  {
   "cell_type": "code",
   "execution_count": null,
   "metadata": {},
   "outputs": [],
   "source": [
    "import pandas as pd\n",
    "\n",
    "\n",
    "# Read data from the file\n",
    "with open(\"data/sady_str_skilzni.txt\", encoding='utf-8-sig') as f:\n",
    "    data = f.readlines()\n",
    "\n",
    "# Clean up junk chars\n",
    "data = [line.strip('\\n') for line in data]\n",
    "data = [line for line in data if line != '']\n",
    "\n",
    "# Break the list up into lists starting with individual years\n",
    "lists_by_year = []\n",
    "current_sublist = []\n",
    "\n",
    "for i in data:\n",
    "    if i.isdigit():\n",
    "        # If current_sublist already exists, add more data\n",
    "        if current_sublist:\n",
    "            lists_by_year.append(current_sublist)\n",
    "        # If it doesn't create one starting with the year\n",
    "        current_sublist = [i]\n",
    "    else:\n",
    "        current_sublist.append(i)\n",
    "\n",
    "if current_sublist:\n",
    "    lists_by_year.append(current_sublist)\n",
    "\n",
    "# Make a list of dicts\n",
    "dicts_by_year = []\n",
    "\n",
    "years = range(0, 12)\n",
    "for y in years:\n",
    "    # Create subdicts for each year\n",
    "    years_dict = {}\n",
    "    for i in lists_by_year[y]:\n",
    "        # Create a KV pair for year\n",
    "        if i.isdigit():\n",
    "            years_dict['rok'] = i\n",
    "        # And KV pairs for other data\n",
    "        else:\n",
    "            i_split = i.split()\n",
    "            k = ' '.join(i_split[:2])\n",
    "            v = ''.join(i_split[2:])\n",
    "            years_dict[k] = v\n",
    "    \n",
    "    dicts_by_year.append(years_dict)\n",
    "\n",
    "# Write to csv\n",
    "df = pd.DataFrame(dicts_by_year)\n",
    "df.to_csv(f\"data_clean/sklizne_ou.csv\", index=False, encoding=\"utf-8\")\n",
    "# clean = pd.read_csv(\"data_clean/sklizne_ou.csv\", encoding='utf-8')\n",
    "# clean"
   ]
  },
  {
   "cell_type": "markdown",
   "metadata": {},
   "source": [
    "## Spotřeba"
   ]
  },
  {
   "cell_type": "markdown",
   "metadata": {},
   "source": [
    " #### Spotřeba ovoce ČR 1948-2022 (ČSÚ)"
   ]
  },
  {
   "cell_type": "code",
   "execution_count": null,
   "metadata": {},
   "outputs": [],
   "source": [
    "import pandas as pd\n",
    "\n",
    "\n",
    "df = pd.read_excel(\"data/spotreba_ovoce_cr_CSU.xlsx\", header=None)\n",
    "\n",
    "df = df.drop([0, 1, 2, 3, 4, 5, 6, 8, 9])\n",
    "\n",
    "df = df.drop(df.columns[[0, -1]], axis=1)\n",
    "\n",
    "df.iloc[0, 0] = 'rok'\n",
    "df.iloc[0, 1] = 'ovoce_total'\n",
    "df.iloc[0, 2] = 'ovoce mírného pásma'\n",
    "df.iloc[0, 16] = 'jižní ovoce'\n",
    "df.iloc[0, 21] = 'ananas'\n",
    "df.iloc[0, 22] = 'kiwi'\n",
    "\n",
    "df = df.replace('\\n', ' ', regex=True)\n",
    "df = df.replace('.', 'Unknown')\n",
    "df\n",
    "\n",
    "df.to_csv(f\"data_clean/spotreba_ovoce_cr_CSU.csv\", index=False, header=False, encoding=\"utf-8\")\n",
    "# clean = pd.read_csv(\"data_clean/spotreba_ovoce_cr_CSU.csv\", header=None, encoding='utf-8')\n",
    "# clean\n"
   ]
  },
  {
   "cell_type": "markdown",
   "metadata": {},
   "source": [
    "## Misc"
   ]
  },
  {
   "cell_type": "markdown",
   "metadata": {},
   "source": [
    "#### Odrudy jablek (ČSÚ)"
   ]
  },
  {
   "cell_type": "code",
   "execution_count": null,
   "metadata": {},
   "outputs": [],
   "source": [
    "import pandas as pd\n",
    "\n",
    "\n",
    "df = pd.read_excel(\"data/seznam_odrud.xlsx\")\n",
    "df = df.drop(df.columns[range(6,19)], axis=1)\n",
    "df = df.drop(range(281, 304))\n",
    "\n",
    "df.to_csv(f\"data_clean/seznam_odrud.csv\", index=False, encoding=\"utf-8\")\n",
    "# clean = pd.read_csv(\"data_clean/seznam_odrud.csv\", encoding='utf-8')\n",
    "# clean.tail(30)\n"
   ]
  },
  {
   "cell_type": "markdown",
   "metadata": {},
   "source": [
    "#### Pamatné stromy (ČSÚ)"
   ]
  },
  {
   "cell_type": "code",
   "execution_count": null,
   "metadata": {},
   "outputs": [],
   "source": [
    "import pandas as pd\n",
    "\n",
    "\n",
    "df = pd.read_csv(\"data/pamatne_stromy.csv\", sep=';', encoding='utf-8')\n",
    "df = df.drop(df.columns[1], axis=1)\n",
    "\n",
    "df.to_csv(f\"data_clean/pamatne_stromy.csv\", index=False, encoding=\"utf-8\")\n",
    "# clean = pd.read_csv(\"data_clean/pamatne_stromy.csv\", encoding='utf-8')\n",
    "# clean"
   ]
  },
  {
   "cell_type": "markdown",
   "metadata": {},
   "source": [
    "#### Crop production EU 1955-1999 (Eurostat)"
   ]
  },
  {
   "cell_type": "code",
   "execution_count": null,
   "metadata": {},
   "outputs": [],
   "source": [
    "import pandas as pd\n",
    "\n",
    "\n",
    "df = pd.read_csv(\"data/crop_prod_historical_1955_1999.csv\", encoding='utf-8')\n",
    "df = df.drop(df.columns[[0, 1, 2, 8]], axis=1)\n",
    "df = df.rename(columns={'geo': 'COUNTRY', 'strucpro': 'STR_OF_PRODUCTION', 'crops': 'CROPS', 'TIME_PERIOD': 'YEAR'})\n",
    "\n",
    "labels = {'F0000': 'Fruits, berries and nuts', 'F1110': 'Apples', 'F1111': 'Apples for fresh consumption', 'F1112': 'Apples for processing'}\n",
    "df[\"CROPS\"] =  df[\"CROPS\"].map(labels)\n",
    "\n",
    "# df = df.replace('F0000', 'Fruits, berries and nuts')\n",
    "# df = df.replace('F1110', 'Apples')\n",
    "# df = df.replace('F1111', 'Apples for fresh consumption')\n",
    "# df = df.replace('F1111', 'Apples for fresh consumption')\n",
    "\n",
    "df.to_csv(f\"data_clean/crop_prod_historical_1955_1999.csv\", index=False, encoding=\"utf-8\")\n",
    "# clean = pd.read_csv(\"data_clean/crop_prod_historical_1955_1999.csv\", encoding='utf-8')\n",
    "# clean"
   ]
  },
  {
   "cell_type": "markdown",
   "metadata": {},
   "source": [
    "#### Počet stromů (ČSÚ)"
   ]
  },
  {
   "cell_type": "code",
   "execution_count": null,
   "metadata": {},
   "outputs": [],
   "source": [
    "import pandas as pd\n",
    "\n",
    "\n",
    "df = pd.read_excel(\"data/pocet_stromu_sklizen_2002_2023.xlsx\", header=None)\n",
    "# df = df.drop(range(0, 5))\n",
    "# df = df.drop(range(31))\n",
    "df = df.iloc[range(5,31)]\n",
    "df = df.drop(df.columns[[0, 1]], axis=1)\n",
    "df = df.rename(columns={'2002': 'Dummy'})\n",
    "\n",
    "# df = df.replace('\\n', ' ', regex=True)\n",
    "# df = df.replace(',', '')\n",
    "\n",
    "df = df.transpose()\n",
    "\n",
    "df.to_csv(f\"data_clean/ovocne_stromy_kere_2002_2023_tr.csv\", index=False, header=False, encoding=\"utf-8\")\n",
    "# clean = pd.read_csv(\"data_clean/ovocne_stromy_kere_2002_2023_tr.csv\", encoding='utf-8')\n",
    "# clean\n"
   ]
  },
  {
   "cell_type": "markdown",
   "metadata": {},
   "source": [
    "#### Sklizeň (ČSÚ)"
   ]
  },
  {
   "cell_type": "code",
   "execution_count": null,
   "metadata": {},
   "outputs": [],
   "source": [
    "import pandas as pd\n",
    "\n",
    "\n",
    "df = pd.read_excel(\"data/pocet_stromu_sklizen_2002_2023.xlsx\", header=None)\n",
    "df = df.drop(range(0, 5))\n",
    "df = df.drop(range(6, 31))\n",
    "df = df.drop(range(56, 85))\n",
    "df = df.drop(df.columns[[0, 1]], axis=1)\n",
    "\n",
    "df = df.transpose()\n",
    "\n",
    "df.to_csv(f\"data_clean/sklizen_2002_2023_tr.csv\", index=False, header=False, encoding=\"utf-8\")\n",
    "clean = pd.read_csv(\"data_clean/sklizen_2002_2023_tr.csv\", encoding='utf-8')\n",
    "clean"
   ]
  },
  {
   "cell_type": "markdown",
   "metadata": {},
   "source": [
    "#### Produkční plocha (ČSÚ)"
   ]
  },
  {
   "cell_type": "code",
   "execution_count": null,
   "metadata": {},
   "outputs": [],
   "source": [
    "import pandas as pd\n",
    "\n",
    "\n",
    "df = pd.read_excel(\"data/pocet_stromu_sklizen_2002_2023.xlsx\", header=None)\n",
    "df = df.drop(range(0, 5))\n",
    "df = df.drop(range(6, 56))\n",
    "df = df.drop(range(81, 85))\n",
    "df = df.drop(df.columns[[0, 1, 3, 4, 5, 6, 7, 8, 9, 10, 11]], axis=1)\n",
    "\n",
    "df = df.transpose()\n",
    "\n",
    "df.to_csv(f\"data_clean/prod_plocha_2011_2023_tr.csv\", index=False, header=False, encoding=\"utf-8\")\n",
    "# clean = pd.read_csv(\"data_clean/prod_plocha_2011_2023_tr.csv\", encoding='utf-8')\n",
    "# clean"
   ]
  },
  {
   "cell_type": "markdown",
   "metadata": {},
   "source": [
    "## One more round of cleaning"
   ]
  },
  {
   "cell_type": "markdown",
   "metadata": {},
   "source": [
    "#### Cleaning up tricky commas for keboola uplaod"
   ]
  },
  {
   "cell_type": "code",
   "execution_count": 36,
   "metadata": {},
   "outputs": [],
   "source": [
    "for year in range(2011, 2024):\n",
    "    with open(f\"data/import_export_{year}.csv\", 'r', encoding='ISO-8859-1') as file:\n",
    "        lines = file.readlines()\n",
    "    \n",
    "    # Remove commas and write output files to data_clean\n",
    "    with open(f\"data_clean/import_export_{year}.csv\", 'w', encoding='utf-8') as new_file:\n",
    "        for line in lines:\n",
    "            if line.endswith(\",\\n\"):\n",
    "                new_file.write(line[:-2] + \"\\n\")\n",
    "            else:\n",
    "                new_file.write(line)\n"
   ]
  },
  {
   "cell_type": "markdown",
   "metadata": {},
   "source": [
    "#### Transposing tables to join on years"
   ]
  },
  {
   "cell_type": "code",
   "execution_count": null,
   "metadata": {},
   "outputs": [],
   "source": [
    "import pandas as pd\n",
    "\n",
    "\n",
    "df = pd.read_csv(\"data/sklizen_2002_2023.csv\", encoding='utf-8')\n",
    "df = df.transpose()\n",
    "\n",
    "df.to_csv(f\"data_clean/sklizen_2002_2023_tr.csv\", header=False, encoding=\"utf-8\")\n",
    "# clean = pd.read_csv(\"data_clean/sklizen_2002_2023_tr.csv\", encoding='utf-8')\n",
    "# clean"
   ]
  }
 ],
 "metadata": {
  "kernelspec": {
   "display_name": "Python 3",
   "language": "python",
   "name": "python3"
  },
  "language_info": {
   "codemirror_mode": {
    "name": "ipython",
    "version": 3
   },
   "file_extension": ".py",
   "mimetype": "text/x-python",
   "name": "python",
   "nbconvert_exporter": "python",
   "pygments_lexer": "ipython3",
   "version": "3.10.5"
  }
 },
 "nbformat": 4,
 "nbformat_minor": 2
}
